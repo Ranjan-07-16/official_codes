{
 "cells": [
  {
   "cell_type": "code",
   "execution_count": 14,
   "id": "d0dc1de1",
   "metadata": {},
   "outputs": [
    {
     "name": "stdout",
     "output_type": "stream",
     "text": [
      "6\n",
      "16\n",
      "1\n",
      "1\n",
      "5\n",
      "4\n",
      "Average = 3.2\n"
     ]
    }
   ],
   "source": [
    "t=(1,2,3,4,6)\n",
    "print(max(t))\n",
    "print(sum(t))\n",
    "print(min(t))\n",
    "print(t.count(6))\n",
    "print(len(t))\n",
    "print(t.index(6))\n",
    "print(f'Average = {sum(t)/len(t)}')"
   ]
  }
 ],
 "metadata": {
  "kernelspec": {
   "display_name": "Python 3",
   "language": "python",
   "name": "python3"
  },
  "language_info": {
   "codemirror_mode": {
    "name": "ipython",
    "version": 3
   },
   "file_extension": ".py",
   "mimetype": "text/x-python",
   "name": "python",
   "nbconvert_exporter": "python",
   "pygments_lexer": "ipython3",
   "version": "3.14.0"
  }
 },
 "nbformat": 4,
 "nbformat_minor": 5
}
